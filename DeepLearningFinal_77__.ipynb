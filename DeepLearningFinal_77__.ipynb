{
  "cells": [
    {
      "cell_type": "markdown",
      "metadata": {
        "id": "view-in-github",
        "colab_type": "text"
      },
      "source": [
        "<a href=\"https://colab.research.google.com/github/nourshadid/DeepLearningCNN/blob/main/DeepLearningFinal_77__.ipynb\" target=\"_parent\"><img src=\"https://colab.research.google.com/assets/colab-badge.svg\" alt=\"Open In Colab\"/></a>"
      ]
    },
    {
      "cell_type": "code",
      "execution_count": null,
      "id": "1b84a97e",
      "metadata": {
        "id": "1b84a97e"
      },
      "outputs": [],
      "source": [
        "import numpy as np\n",
        "from tensorflow import keras\n",
        "from keras.datasets import cifar10\n",
        "import matplotlib.pyplot as plt\n",
        "from keras.models import Sequential\n",
        "from keras.layers import Conv2D, MaxPooling2D, Flatten, Dense, Dropout, Activation\n",
        "from keras.optimizers import SGD, Adam\n",
        "from keras.regularizers import l2, l1, L1L2\n",
        "from keras.utils import to_categorical\n",
        "from sklearn.metrics import confusion_matrix"
      ]
    },
    {
      "cell_type": "code",
      "execution_count": null,
      "id": "1a64341b",
      "metadata": {
        "id": "1a64341b",
        "colab": {
          "base_uri": "https://localhost:8080/"
        },
        "outputId": "b646b582-ad6a-42a4-f6a4-dd535d40f2ae"
      },
      "outputs": [
        {
          "output_type": "stream",
          "name": "stdout",
          "text": [
            "Downloading data from https://www.cs.toronto.edu/~kriz/cifar-10-python.tar.gz\n",
            "170498071/170498071 [==============================] - 7s 0us/step\n"
          ]
        }
      ],
      "source": [
        "data = cifar10.load_data()"
      ]
    },
    {
      "cell_type": "code",
      "execution_count": null,
      "id": "0b53456e",
      "metadata": {
        "id": "0b53456e"
      },
      "outputs": [],
      "source": [
        "(x_train, y_train), (x_test, y_test) = data"
      ]
    },
    {
      "cell_type": "code",
      "execution_count": null,
      "id": "e1b3e3d2",
      "metadata": {
        "colab": {
          "base_uri": "https://localhost:8080/"
        },
        "id": "e1b3e3d2",
        "outputId": "00a5735d-fbf2-4ca9-c917-00256f765b46"
      },
      "outputs": [
        {
          "output_type": "stream",
          "name": "stdout",
          "text": [
            "(50000, 32, 32, 3) (50000, 1) \n",
            " (10000, 32, 32, 3) (10000, 1)\n"
          ]
        }
      ],
      "source": [
        "print(x_train.shape, y_train.shape,'\\n', x_test.shape, y_test.shape)"
      ]
    },
    {
      "cell_type": "code",
      "execution_count": null,
      "id": "8005ac31",
      "metadata": {
        "colab": {
          "base_uri": "https://localhost:8080/",
          "height": 266
        },
        "id": "8005ac31",
        "outputId": "648a9bcc-4d67-4f78-abca-cfe07bfd2f97"
      },
      "outputs": [
        {
          "output_type": "display_data",
          "data": {
            "text/plain": [
              "<Figure size 432x288 with 1 Axes>"
            ],
            "image/png": "[encoded data removed]"
          },
          "metadata": {
            "needs_background": "light"
          }
        }
      ],
      "source": [
        "plt.imshow(x_train[99], plt.cm.gray)\n",
        "plt.show()"
      ]
    },
    {
      "cell_type": "code",
      "execution_count": null,
      "id": "23a1b97e",
      "metadata": {
        "colab": {
          "base_uri": "https://localhost:8080/"
        },
        "id": "23a1b97e",
        "outputId": "dd6b9009-c5de-4b3c-be20-3373d0aedb9a"
      },
      "outputs": [
        {
          "output_type": "stream",
          "name": "stdout",
          "text": [
            "Model: \"sequential\"\n",
            "_________________________________________________________________\n",
            " Layer (type)                Output Shape              Param #   \n",
            "=================================================================\n",
            " conv2d (Conv2D)             (None, 32, 32, 32)        896       \n",
            "                                                                 \n",
            " activation (Activation)     (None, 32, 32, 32)        0         \n",
            "                                                                 \n",
            " conv2d_1 (Conv2D)           (None, 32, 32, 32)        9248      \n",
            "                                                                 \n",
            " activation_1 (Activation)   (None, 32, 32, 32)        0         \n",
            "                                                                 \n",
            " max_pooling2d (MaxPooling2D  (None, 16, 16, 32)       0         \n",
            " )                                                               \n",
            "                                                                 \n",
            " dropout (Dropout)           (None, 16, 16, 32)        0         \n",
            "                                                                 \n",
            " conv2d_2 (Conv2D)           (None, 16, 16, 64)        18496     \n",
            "                                                                 \n",
            " activation_2 (Activation)   (None, 16, 16, 64)        0         \n",
            "                                                                 \n",
            " conv2d_3 (Conv2D)           (None, 16, 16, 64)        36928     \n",
            "                                                                 \n",
            " activation_3 (Activation)   (None, 16, 16, 64)        0         \n",
            "                                                                 \n",
            " max_pooling2d_1 (MaxPooling  (None, 8, 8, 64)         0         \n",
            " 2D)                                                             \n",
            "                                                                 \n",
            " dropout_1 (Dropout)         (None, 8, 8, 64)          0         \n",
            "                                                                 \n",
            " flatten (Flatten)           (None, 4096)              0         \n",
            "                                                                 \n",
            " dense (Dense)               (None, 540)               2212380   \n",
            "                                                                 \n",
            " dropout_2 (Dropout)         (None, 540)               0         \n",
            "                                                                 \n",
            " dense_1 (Dense)             (None, 10)                5410      \n",
            "                                                                 \n",
            "=================================================================\n",
            "Total params: 2,283,358\n",
            "Trainable params: 2,283,358\n",
            "Non-trainable params: 0\n",
            "_________________________________________________________________\n"
          ]
        }
      ],
      "source": [
        "model = Sequential()\n",
        "\n",
        "model.add(Conv2D(32, (3,3), padding='same', input_shape=x_train.shape[1:]))\n",
        "model.add(Activation('relu'))\n",
        "model.add(Conv2D(32, (3,3), padding='same',  kernel_regularizer=L1L2(l1=1e-5, l2=1e-4)))\n",
        "model.add(Activation('relu'))\n",
        "model.add(MaxPooling2D(pool_size=(2,2)))\n",
        "model.add(Dropout(rate=0.5))\n",
        "\n",
        "model.add(Conv2D(64, (3,3), padding='same', kernel_regularizer=l2(l2=0.001)))\n",
        "model.add(Activation('relu'))\n",
        "model.add(Conv2D(64, (3,3), padding='same',  kernel_regularizer=L1L2(l1=1e-5, l2=1e-4)))\n",
        "model.add(Activation('relu'))\n",
        "model.add(MaxPooling2D(pool_size=(2,2)))\n",
        "model.add(Dropout(rate=0.25))\n",
        "\n",
        "model.add(Flatten())\n",
        "model.add(Dense(units=540, activation='LeakyReLU'))\n",
        "model.add(Dropout(rate=0.2))\n",
        "model.add(Dense(units=10, activation='softmax')) #num of classes = 10\n",
        "model.summary()"
      ]
    },
    {
      "cell_type": "code",
      "execution_count": null,
      "id": "d629371c",
      "metadata": {
        "colab": {
          "base_uri": "https://localhost:8080/"
        },
        "id": "d629371c",
        "outputId": "fb7eea35-7548-4e11-eedd-edde1eaa03b0"
      },
      "outputs": [
        {
          "output_type": "stream",
          "name": "stdout",
          "text": [
            "(50000, 32, 32, 3) (50000, 1) (10000, 32, 32, 3) (10000, 1)\n"
          ]
        }
      ],
      "source": [
        "print(x_train.shape, y_train.shape, x_test.shape, y_test.shape)"
      ]
    },
    {
      "cell_type": "code",
      "execution_count": null,
      "id": "6ef11b0c",
      "metadata": {
        "id": "6ef11b0c"
      },
      "outputs": [],
      "source": [
        "# Convert target labels to one-hot encoded matrix\n",
        "y_train = to_categorical(y_train, num_classes=10)\n",
        "y_test = to_categorical(y_test, num_classes=10)"
      ]
    },
    {
      "cell_type": "code",
      "execution_count": null,
      "id": "61c59ee7",
      "metadata": {
        "colab": {
          "base_uri": "https://localhost:8080/"
        },
        "id": "61c59ee7",
        "outputId": "2e9e93b3-a545-4bf6-e3b2-dd184830f8d3"
      },
      "outputs": [
        {
          "output_type": "stream",
          "name": "stdout",
          "text": [
            "Epoch 1/35\n",
            "300/300 [==============================] - 14s 19ms/step - loss: 4.4909 - categorical_accuracy: 0.1008 - val_loss: 2.3682 - val_categorical_accuracy: 0.0953\n",
            "Epoch 2/35\n",
            "300/300 [==============================] - 5s 15ms/step - loss: 2.2367 - categorical_accuracy: 0.1777 - val_loss: 2.1884 - val_categorical_accuracy: 0.2148\n",
            "Epoch 3/35\n",
            "300/300 [==============================] - 5s 16ms/step - loss: 1.9323 - categorical_accuracy: 0.3052 - val_loss: 1.7711 - val_categorical_accuracy: 0.3939\n",
            "Epoch 4/35\n",
            "300/300 [==============================] - 5s 15ms/step - loss: 1.6908 - categorical_accuracy: 0.4014 - val_loss: 1.8052 - val_categorical_accuracy: 0.3887\n",
            "Epoch 5/35\n",
            "300/300 [==============================] - 5s 15ms/step - loss: 1.5730 - categorical_accuracy: 0.4480 - val_loss: 1.5868 - val_categorical_accuracy: 0.4712\n",
            "Epoch 6/35\n",
            "300/300 [==============================] - 5s 16ms/step - loss: 1.4650 - categorical_accuracy: 0.4896 - val_loss: 1.3893 - val_categorical_accuracy: 0.5400\n",
            "Epoch 7/35\n",
            "300/300 [==============================] - 5s 15ms/step - loss: 1.3729 - categorical_accuracy: 0.5268 - val_loss: 1.3322 - val_categorical_accuracy: 0.5603\n",
            "Epoch 8/35\n",
            "300/300 [==============================] - 5s 16ms/step - loss: 1.2886 - categorical_accuracy: 0.5571 - val_loss: 1.2800 - val_categorical_accuracy: 0.5708\n",
            "Epoch 9/35\n",
            "300/300 [==============================] - 5s 16ms/step - loss: 1.2241 - categorical_accuracy: 0.5808 - val_loss: 1.1627 - val_categorical_accuracy: 0.6116\n",
            "Epoch 10/35\n",
            "300/300 [==============================] - 5s 15ms/step - loss: 1.1696 - categorical_accuracy: 0.6022 - val_loss: 1.1530 - val_categorical_accuracy: 0.6140\n",
            "Epoch 11/35\n",
            "300/300 [==============================] - 5s 16ms/step - loss: 1.1282 - categorical_accuracy: 0.6172 - val_loss: 1.0848 - val_categorical_accuracy: 0.6423\n",
            "Epoch 12/35\n",
            "300/300 [==============================] - 5s 16ms/step - loss: 1.0728 - categorical_accuracy: 0.6381 - val_loss: 1.0936 - val_categorical_accuracy: 0.6452\n",
            "Epoch 13/35\n",
            "300/300 [==============================] - 5s 15ms/step - loss: 1.0381 - categorical_accuracy: 0.6518 - val_loss: 1.0889 - val_categorical_accuracy: 0.6369\n",
            "Epoch 14/35\n",
            "300/300 [==============================] - 5s 16ms/step - loss: 0.9925 - categorical_accuracy: 0.6687 - val_loss: 0.9469 - val_categorical_accuracy: 0.6884\n",
            "Epoch 15/35\n",
            "300/300 [==============================] - 5s 16ms/step - loss: 0.9668 - categorical_accuracy: 0.6782 - val_loss: 0.9276 - val_categorical_accuracy: 0.6979\n",
            "Epoch 16/35\n",
            "300/300 [==============================] - 5s 16ms/step - loss: 0.9383 - categorical_accuracy: 0.6873 - val_loss: 0.9558 - val_categorical_accuracy: 0.6832\n",
            "Epoch 17/35\n",
            "300/300 [==============================] - 5s 15ms/step - loss: 0.9029 - categorical_accuracy: 0.6998 - val_loss: 0.8789 - val_categorical_accuracy: 0.7117\n",
            "Epoch 18/35\n",
            "300/300 [==============================] - 5s 16ms/step - loss: 0.8789 - categorical_accuracy: 0.7040 - val_loss: 0.8737 - val_categorical_accuracy: 0.7141\n",
            "Epoch 19/35\n",
            "300/300 [==============================] - 5s 16ms/step - loss: 0.8563 - categorical_accuracy: 0.7166 - val_loss: 0.9365 - val_categorical_accuracy: 0.6927\n",
            "Epoch 20/35\n",
            "300/300 [==============================] - 5s 16ms/step - loss: 0.8423 - categorical_accuracy: 0.7214 - val_loss: 0.9167 - val_categorical_accuracy: 0.7061\n",
            "Epoch 21/35\n",
            "300/300 [==============================] - 5s 16ms/step - loss: 0.8172 - categorical_accuracy: 0.7312 - val_loss: 0.8541 - val_categorical_accuracy: 0.7256\n",
            "Epoch 22/35\n",
            "300/300 [==============================] - 5s 16ms/step - loss: 0.8145 - categorical_accuracy: 0.7329 - val_loss: 0.8115 - val_categorical_accuracy: 0.7376\n",
            "Epoch 23/35\n",
            "300/300 [==============================] - 5s 16ms/step - loss: 0.7870 - categorical_accuracy: 0.7427 - val_loss: 0.7893 - val_categorical_accuracy: 0.7465\n",
            "Epoch 24/35\n",
            "300/300 [==============================] - 5s 16ms/step - loss: 0.7672 - categorical_accuracy: 0.7503 - val_loss: 0.8254 - val_categorical_accuracy: 0.7381\n",
            "Epoch 25/35\n",
            "300/300 [==============================] - 4s 15ms/step - loss: 0.7492 - categorical_accuracy: 0.7547 - val_loss: 0.8497 - val_categorical_accuracy: 0.7271\n",
            "Epoch 26/35\n",
            "300/300 [==============================] - 5s 16ms/step - loss: 0.7474 - categorical_accuracy: 0.7563 - val_loss: 0.7767 - val_categorical_accuracy: 0.7509\n",
            "Epoch 27/35\n",
            "300/300 [==============================] - 5s 16ms/step - loss: 0.7272 - categorical_accuracy: 0.7641 - val_loss: 0.7679 - val_categorical_accuracy: 0.7549\n",
            "Epoch 28/35\n",
            "300/300 [==============================] - 5s 15ms/step - loss: 0.7173 - categorical_accuracy: 0.7663 - val_loss: 0.8297 - val_categorical_accuracy: 0.7379\n",
            "Epoch 29/35\n",
            "300/300 [==============================] - 5s 16ms/step - loss: 0.7029 - categorical_accuracy: 0.7729 - val_loss: 0.7742 - val_categorical_accuracy: 0.7561\n",
            "Epoch 30/35\n",
            "300/300 [==============================] - 5s 16ms/step - loss: 0.6979 - categorical_accuracy: 0.7741 - val_loss: 0.7584 - val_categorical_accuracy: 0.7604\n",
            "Epoch 31/35\n",
            "300/300 [==============================] - 5s 15ms/step - loss: 0.6801 - categorical_accuracy: 0.7792 - val_loss: 0.7816 - val_categorical_accuracy: 0.7593\n",
            "Epoch 32/35\n",
            "300/300 [==============================] - 5s 16ms/step - loss: 0.6649 - categorical_accuracy: 0.7872 - val_loss: 0.7853 - val_categorical_accuracy: 0.7595\n",
            "Epoch 33/35\n",
            "300/300 [==============================] - 4s 15ms/step - loss: 0.6667 - categorical_accuracy: 0.7859 - val_loss: 0.7853 - val_categorical_accuracy: 0.7531\n",
            "Epoch 34/35\n",
            "300/300 [==============================] - 5s 16ms/step - loss: 0.6626 - categorical_accuracy: 0.7868 - val_loss: 0.7676 - val_categorical_accuracy: 0.7640\n",
            "Epoch 35/35\n",
            "300/300 [==============================] - 5s 16ms/step - loss: 0.6462 - categorical_accuracy: 0.7915 - val_loss: 0.7289 - val_categorical_accuracy: 0.7733\n"
          ]
        }
      ],
      "source": [
        "batch_size = 142\n",
        "epochs = 35\n",
        "model.compile(loss='categorical_crossentropy',\n",
        "              metrics=['categorical_accuracy'],\n",
        "              optimizer=Adam(learning_rate=0.001))\n",
        "\n",
        "model_checkpoint_callback = keras.callbacks.ModelCheckpoint(\n",
        "    filepath='model.hdf5',\n",
        "    monitor='val_categorical_accuracy',\n",
        "    mode='max',\n",
        "    save_best_only=True)\n",
        "\n",
        "history = model.fit(x_train,\n",
        "                    y_train,\n",
        "                    batch_size=batch_size,\n",
        "                    epochs=epochs,\n",
        "                    validation_split=0.15,\n",
        "                    shuffle=True,\n",
        "                    callbacks=[model_checkpoint_callback])"
      ]
    },
    {
      "cell_type": "code",
      "source": [
        "train_accuracy = history.history['categorical_accuracy']\n",
        "val_accuracy = history.history['val_categorical_accuracy']\n",
        "print(\"validation accuracy:\", val_accuracy)\n",
        "print(\"training accuracy:\", train_accuracy)"
      ],
      "metadata": {
        "colab": {
          "base_uri": "https://localhost:8080/"
        },
        "id": "YtZtQUirBHXy",
        "outputId": "e963e290-f7f6-4cd7-dab6-13224d122366"
      },
      "id": "YtZtQUirBHXy",
      "execution_count": null,
      "outputs": [
        {
          "output_type": "stream",
          "name": "stdout",
          "text": [
            "validation accuracy: [0.09533333033323288, 0.21480000019073486, 0.3938666582107544, 0.38866665959358215, 0.47119998931884766, 0.5400000214576721, 0.5602666735649109, 0.5708000063896179, 0.6115999817848206, 0.6140000224113464, 0.6422666907310486, 0.6452000141143799, 0.6369333267211914, 0.6883999705314636, 0.697866678237915, 0.6832000017166138, 0.711733341217041, 0.7141333222389221, 0.6926666498184204, 0.7061333060264587, 0.725600004196167, 0.7376000285148621, 0.7465333342552185, 0.7381333112716675, 0.727066695690155, 0.7509333491325378, 0.7549333572387695, 0.7378666400909424, 0.7561333179473877, 0.7603999972343445, 0.7593333125114441, 0.7594666481018066, 0.7530666589736938, 0.7639999985694885, 0.7733333110809326]\n",
            "training accuracy: [0.10077647119760513, 0.1777176409959793, 0.30524706840515137, 0.4014352858066559, 0.4480000138282776, 0.48955294489860535, 0.5267529487609863, 0.5571293830871582, 0.5808470845222473, 0.6022117733955383, 0.6172000169754028, 0.6380705833435059, 0.6517882347106934, 0.6686588525772095, 0.6781647205352783, 0.6872705817222595, 0.6997647285461426, 0.704023540019989, 0.7165882587432861, 0.7214353084564209, 0.731247067451477, 0.7328705787658691, 0.7426823377609253, 0.7503058910369873, 0.7547293901443481, 0.7563058733940125, 0.7641176581382751, 0.7663058638572693, 0.7728706002235413, 0.7740705609321594, 0.7791764736175537, 0.7872470617294312, 0.7859294414520264, 0.7868235111236572, 0.7915058732032776]\n"
          ]
        }
      ]
    },
    {
      "cell_type": "code",
      "execution_count": null,
      "id": "354bdeb8",
      "metadata": {
        "colab": {
          "base_uri": "https://localhost:8080/"
        },
        "id": "354bdeb8",
        "outputId": "6ea0a060-937b-4c1c-bda8-9ebeb934c323"
      },
      "outputs": [
        {
          "output_type": "stream",
          "name": "stdout",
          "text": [
            "test loss: 0.7308536767959595\n",
            "test categorical accuracy: 0.7749999761581421\n"
          ]
        }
      ],
      "source": [
        "results = model.evaluate(x_test, y_test, verbose=0)\n",
        "print(\"test loss:\", results[0])\n",
        "print(\"test categorical accuracy:\", results[1])"
      ]
    },
    {
      "cell_type": "code",
      "execution_count": null,
      "id": "1d4e7960",
      "metadata": {
        "colab": {
          "base_uri": "https://localhost:8080/",
          "height": 350
        },
        "id": "1d4e7960",
        "outputId": "6614d5b8-aae4-4a0a-8d0d-4df69ae2bc40"
      },
      "outputs": [
        {
          "output_type": "display_data",
          "data": {
            "text/plain": [
              "<Figure size 1080x360 with 2 Axes>"
            ],
            "image/png": "[encoded data removed]"
          },
          "metadata": {
            "needs_background": "light"
          }
        }
      ],
      "source": [
        "fig, ax = plt.subplots(1, 2, figsize=(15,5))\n",
        "\n",
        "epochs_list = list(range(history.params['epochs']))\n",
        "\n",
        "ax[0].plot(epochs_list, history.history['loss'], color='red', label='loss')\n",
        "ax[0].plot(epochs_list, history.history['val_loss'], color='blue', label='val_loss')\n",
        "ax[0].set_title('Model Loss')\n",
        "ax[0].legend()\n",
        "ax[0].set_xlabel('Epoch')\n",
        "ax[0].set_ylabel('Loss')\n",
        "\n",
        "ax[1].plot(epochs_list, history.history['categorical_accuracy'], color='red', label='categorical_accuracy')\n",
        "ax[1].plot(epochs_list, history.history['val_categorical_accuracy'], color='blue', label='val_categorical_accuracy')\n",
        "ax[1].set_title('Model Accuracy')\n",
        "ax[1].legend()\n",
        "ax[1].set_xlabel('Epoch')\n",
        "ax[1].set_ylabel('Accuracy')\n",
        "\n",
        "plt.show()"
      ]
    },
    {
      "cell_type": "code",
      "source": [
        "fig, ax = plt.subplots(figsize=(6,5))\n",
        "\n",
        "epochs_list = list(range(history.params['epochs']))\n",
        "\n",
        "ax.plot(epochs_list, history.history['loss'], color='red', label='loss')\n",
        "ax.plot(epochs_list, history.history['categorical_accuracy'], color='blue', label='categorical_accuracy')\n",
        "ax.set_title('Training (Loss - Accuracy)')\n",
        "ax.legend()\n",
        "ax.set_xlabel('Epoch')\n",
        "ax.set_ylabel('Loss - Categorical Accuracy')\n",
        "\n",
        "\n",
        "plt.show()"
      ],
      "metadata": {
        "colab": {
          "base_uri": "https://localhost:8080/",
          "height": 350
        },
        "id": "KRau38biJTG6",
        "outputId": "5bd74d0d-52f4-4a60-e2d4-5a93a6aabe9b"
      },
      "id": "KRau38biJTG6",
      "execution_count": null,
      "outputs": [
        {
          "output_type": "display_data",
          "data": {
            "text/plain": [
              "<Figure size 432x360 with 1 Axes>"
            ],
            "image/png": "[encoded data removed]"
          },
          "metadata": {
            "needs_background": "light"
          }
        }
      ]
    },
    {
      "cell_type": "code",
      "source": [
        "pred = model.predict(x_test)\n",
        "y_pred = np.argmax(pred, axis=-1)\n",
        "y_true = np.argmax(y_test, axis=-1)\n",
        "\n",
        "confusion_matrix = confusion_matrix(y_true, y_pred)\n",
        "print('Confusion Matrix:')\n",
        "print(confusion_matrix)"
      ],
      "metadata": {
        "colab": {
          "base_uri": "https://localhost:8080/"
        },
        "id": "Hqy0tzFTpIzZ",
        "outputId": "b9d7b478-299c-4ca9-f58b-e47f7b2cc9fe"
      },
      "id": "Hqy0tzFTpIzZ",
      "execution_count": null,
      "outputs": [
        {
          "output_type": "stream",
          "name": "stdout",
          "text": [
            "313/313 [==============================] - 1s 4ms/step\n",
            "Confusion Matrix:\n",
            "[[739  15  67  16  27   8   6   8  79  35]\n",
            " [ 11 872   4   6   3   6   5   2  14  77]\n",
            " [ 37   3 712  33 110  37  40  16   7   5]\n",
            " [ 13   5  73 591  93 129  50  27   9  10]\n",
            " [ 10   2  48  35 835  12  19  30   7   2]\n",
            " [  6   1  57 149  71 638  24  45   4   5]\n",
            " [  3   3  50  48  49   7 830   3   6   1]\n",
            " [ 13   2  44  31  79  30   2 791   4   4]\n",
            " [ 32  16  21  16   8   7   8   5 866  21]\n",
            " [ 16  45   7   8   5   1   3  20  19 876]]\n"
          ]
        }
      ]
    }
  ],
  "metadata": {
    "kernelspec": {
      "display_name": "Python 3 (ipykernel)",
      "language": "python",
      "name": "python3"
    },
    "language_info": {
      "codemirror_mode": {
        "name": "ipython",
        "version": 3
      },
      "file_extension": ".py",
      "mimetype": "text/x-python",
      "name": "python",
      "nbconvert_exporter": "python",
      "pygments_lexer": "ipython3",
      "version": "3.9.7"
    },
    "colab": {
      "provenance": [],
      "include_colab_link": true
    },
    "accelerator": "GPU",
    "gpuClass": "standard"
  },
  "nbformat": 4,
  "nbformat_minor": 5
}